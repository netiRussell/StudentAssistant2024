{
 "cells": [
  {
   "cell_type": "markdown",
   "id": "e4ba50ae-353f-4313-bd60-627b0b5eee5a",
   "metadata": {},
   "source": [
    "This program takes an Excel file with zipcodes and TEUs in the same table.\n",
    "Then, it creates a separate table called mergedZipCodes and combines the closest zip codes by adding their TEUs and deleting one.\n",
    "\n",
    "To find the distance between two zip codes, latitude, and longitude are used. Thus, an Excel table with zipcodes, lat, and long must be provided.\n",
    "\n",
    "The logic for combining two zip codes: starting from the very last zipcode(initial current) in the TEU table, compare its distance to each other zip code present in the table based on the lat and long provided. Find the closest zip code to the current one and add the TEU of the current zip code to the found one. Delete the current zip code and move one row up - this will be the new current zip code."
   ]
  },
  {
   "cell_type": "markdown",
   "id": "6d7c91b2-591d-41ac-a12e-03d205c6e5c2",
   "metadata": {},
   "source": [
    "1. Make sure all the instructions are downloaded by running these lines in your console"
   ]
  },
  {
   "cell_type": "code",
   "execution_count": null,
   "id": "de5411b2-93ac-4a25-9e9c-ed3673b27ea2",
   "metadata": {
    "vscode": {
     "languageId": "plaintext"
    }
   },
   "outputs": [],
   "source": [
    "pip install openpyxl\n",
    "pip install geopy"
   ]
  },
  {
   "cell_type": "markdown",
   "id": "67860003-d794-4bb1-bfa2-b9a8c36b8e3f",
   "metadata": {},
   "source": [
    "2. Modify settings in the file"
   ]
  },
  {
   "cell_type": "code",
   "execution_count": null,
   "id": "e03013b8-f7af-4b5b-afd7-00ddd3c844de",
   "metadata": {},
   "outputs": [],
   "source": [
    "# ! Settings:\n",
    "teuWBname = 'data.xlsx' # Name of Excel file that holds TEUs\n",
    "teuTableName = 'Teu' # Name of Table that holds TEU with zipcodes\n",
    "columnZipTeu = 'A' # Column in teuTableName that holds zipcodes\n",
    "columnTeu = 'C' # Column in teuTableName that holds TEU weights\n",
    "numberOfUselessTopRows = 1 # Number of useless rows on top of TEU table\n",
    "numberOfUselessBottomRows = 2 # Number of useless rows on bottom of TEU table\n",
    "\n",
    "coordinatesWBname = 'data.xlsx' # Name of Excel file that holds long and lat\n",
    "coordinatesTableName = 'zip_code_database' # Name of Table that holds long and lat with zipcodes\n",
    "columnLatCoord = 'M' # Column in coordinatesTableName that holds Latitudes\n",
    "columnLongCoord = 'N' # Column in coordinatesTableName that holds Longitudes\n",
    "\n",
    "startOver = False # True = combine rows from the main TEU table; False = combine rows from the existing \"mergedZipCodes\" table"
   ]
  },
  {
   "cell_type": "markdown",
   "id": "b13b09c8-16c5-4d42-a966-3f74e78ec23d",
   "metadata": {},
   "source": [
    "3. Have a file at your computer/laptop with name decreaseRows.py with the following code:"
   ]
  },
  {
   "cell_type": "code",
   "execution_count": null,
   "id": "099522c2-f285-4965-812a-ff4fff4e7e36",
   "metadata": {},
   "outputs": [],
   "source": [
    "# - Main imports -\n",
    "from openpyxl import Workbook, load_workbook\n",
    "from geopy.distance import great_circle\n",
    "from geopy.distance import geodesic\n",
    "import sys\n",
    "\n",
    "# LOGIC:\n",
    "  # 0) Copy the current data sheet into a new sheet that will be modified\n",
    "  # 1) Find a zip code with the lowest % in the table\n",
    "  # 2) Delete the zipcode from Step 1 from the table but save its data\n",
    "  # 3) Find the closest zip code to that zipcode \n",
    "    # 3.1) Go over each zipcode and find distance between them\n",
    "    # 3.2) Keep track of the lowest distance\n",
    "    # 3.3) Return the zipcode, weight, row number of the lowest distance\n",
    "  # 4) Add the weight of the zip from Step 1 to the closest zip code from Step 2. Edit hisotory of merging.\n",
    "  # 5) Do 1-4 until certain number of rows is reached.\n",
    "\n",
    "\n",
    "# ! Settings:\n",
    "teuWBname = 'data.xlsx' # Name of Excel file that holds TEUs\n",
    "teuTableName = 'Teu' # Name of Table that holds TEU with zipcodes\n",
    "columnZipTeu = 'A' # Column in teuTableName that holds zipcodes\n",
    "columnTeu = 'C' # Column in teuTableName that holds TEU weights\n",
    "numberOfUselessTopRows = 1 # Number of useless rows on top of TEU table\n",
    "numberOfUselessBottomRows = 2 # Number of useless rows on bottom of TEU table\n",
    "\n",
    "coordinatesWBname = 'data.xlsx' # Name of Excel file that holds long and lat\n",
    "coordinatesTableName = 'zip_code_database' # Name of Table that holds long and lat with zipcodes\n",
    "columnLatCoord = 'M' # Column in coordinatesTableName that holds Latitudes\n",
    "columnLongCoord = 'N' # Column in coordinatesTableName that holds Longitudes\n",
    "\n",
    "startOver = False # True = combine rows from the main TEU table; False = combine rows from the existing \"mergedZipCodes\" table\n",
    "\n",
    "\n",
    "\n",
    "\n",
    "# -------------------------------------------------------------------------------------------------------------------- #\n",
    "\n",
    "\n",
    "# - Function for finding a distance between two coordinates -\n",
    "def getDistance(location1, location2):\n",
    "  return geodesic(location1, location2).miles\n",
    "\n",
    "# - Function for finding coordinates of a given zipcode in ZipByKyle sheet -\n",
    "def findCoordinates(zipcode, wb):\n",
    "  coordinatesDataSheet = wb[coordinatesTableName]\n",
    "  \n",
    "  for row in coordinatesDataSheet.iter_rows(min_row=None, max_row=None, min_col=1, max_col=1, values_only=False):\n",
    "    for cell in row:\n",
    "      if( isinstance(cell.value, int) ):\n",
    "        if( cell.value == zipcode ):\n",
    "          return (coordinatesDataSheet[columnLatCoord + str(cell.row)].value, coordinatesDataSheet[columnLongCoord + str(cell.row)].value)\n",
    "  # if nothing found\n",
    "  return (-1, -1)\n",
    "\n",
    "\n",
    "# -------------------------------------------------------------------------------------------------------------------- #\n",
    "\n",
    "# - Load the Excel file -\n",
    "wb = load_workbook(teuWBname)\n",
    "coordinatesSrc = load_workbook(coordinatesWBname, read_only=True)\n",
    "\n",
    "# - Make sure mergedZipCodes sheet doesn't exist -\n",
    "if( 'mergedZipCodes' in wb.sheetnames and startOver ):\n",
    "  del wb['mergedZipCodes']\n",
    "\n",
    "if( startOver ):\n",
    "  # - Copy the Top457-Dist sheet -\n",
    "  sortedData = wb.copy_worksheet(wb[teuTableName])\n",
    "  sortedData.title = 'mergedZipCodes'\n",
    "else :\n",
    "  sortedData = wb['mergedZipCodes']\n",
    "\n",
    "# - Find range -\n",
    "decreaseUntil = int(input(\"Please, enter the number to which you'd like to decrease number of rows in the table: \"))\n",
    "decreaseUntil = decreaseUntil + numberOfUselessTopRows + numberOfUselessBottomRows\n",
    "\n",
    "# - Iterate -\n",
    "\n",
    "# Find the last row with useful data\n",
    "currentIterator = sortedData.max_row - numberOfUselessBottomRows\n",
    "\n",
    "while( sortedData.max_row > decreaseUntil ):\n",
    "  # Find and save values of the row\n",
    "  currentZipCode = sortedData[columnZipTeu + str(currentIterator)].value\n",
    "  currentCoordinates = findCoordinates(currentZipCode, coordinatesSrc)\n",
    "  if(currentCoordinates == (-1,-1)):\n",
    "    sortedData.delete_rows(currentIterator)\n",
    "    currentIterator -= 1\n",
    "    \n",
    "    print(currentZipCode, \" can't be found in coordinates source excel file: coordinatesWBname [outer while loop], currentIterator = \", currentIterator)\n",
    "    continue\n",
    "\n",
    "  currentHistory = ''\n",
    "  if( not sortedData['RY' + str(currentIterator)].value or sortedData['RY' + str(currentIterator)].value == None):\n",
    "    currentHistory = str(currentZipCode)\n",
    "  else:\n",
    "    currentHistory = '[(' + str(sortedData['RY' + str(currentIterator)].value) + ')' + '->' + str(currentZipCode) + ']'\n",
    "\n",
    "  currentWeight = sortedData[columnTeu + str(currentIterator)].value\n",
    "\n",
    "  # Delete the row, shift currentIterator to the upper row\n",
    "  sortedData.delete_rows(currentIterator)\n",
    "  currentIterator -= 1\n",
    "\n",
    "  # Prepare variables for finding a zipcode with the lowest distance\n",
    "  lowestDistance = sys.maxsize\n",
    "  rowOfLD = -1\n",
    "\n",
    "  # Find zipcode with the lowest distance\n",
    "  for i in range(1, sortedData.max_row+1):\n",
    "      zipCode = sortedData[columnZipTeu + str(i)].value\n",
    "\n",
    "      if(isinstance(zipCode, int)):\n",
    "        holder = findCoordinates(zipCode, coordinatesSrc)\n",
    "        if(holder == (-1,-1)):\n",
    "          print(zipCode, \" can't be found in coordinates source excel file [inner for loop]\")\n",
    "          continue\n",
    "        \n",
    "        holder = getDistance(currentCoordinates, findCoordinates(zipCode, coordinatesSrc))\n",
    "\n",
    "        if( holder < lowestDistance):\n",
    "          lowestDistance = holder\n",
    "          rowOfLD = i\n",
    "\n",
    "  # Add weight of the deleted row to the found row\n",
    "  sortedData[columnTeu + str(rowOfLD)].value = sortedData[columnTeu + str(rowOfLD)].value + currentWeight\n",
    "\n",
    "  # Acommodate history of the changed row\n",
    "  historyColLD = sortedData['RY' + str(rowOfLD)].value\n",
    "  if ( not historyColLD or historyColLD == None ):\n",
    "    sortedData['RY' + str(rowOfLD)].value = currentHistory\n",
    "  else:\n",
    "    sortedData['RY' + str(rowOfLD)].value = str(historyColLD) + ' -> ' + currentHistory\n",
    "\n",
    "  print(rowOfLD) # to be deleted\n",
    "\n",
    "\n",
    "# - Save changes -\n",
    "wb.save('data.xlsx')\n",
    "\n"
   ]
  },
  {
   "cell_type": "markdown",
   "id": "ed97587b-9939-428b-8f0d-aa61e8441008",
   "metadata": {},
   "source": [
    "4. Run the program by writing this to your console:"
   ]
  },
  {
   "cell_type": "code",
   "execution_count": null,
   "id": "871ffba3-06a6-4ad1-95d5-61d4c14c024f",
   "metadata": {
    "vscode": {
     "languageId": "plaintext"
    }
   },
   "outputs": [],
   "source": [
    "python3 decreaseRows.py"
   ]
  }
 ],
 "metadata": {
  "kernelspec": {
   "display_name": "Python 3 (ipykernel)",
   "language": "python",
   "name": "python3"
  },
  "language_info": {
   "codemirror_mode": {
    "name": "ipython",
    "version": 3
   },
   "file_extension": ".py",
   "mimetype": "text/x-python",
   "name": "python",
   "nbconvert_exporter": "python",
   "pygments_lexer": "ipython3",
   "version": "3.12.2"
  }
 },
 "nbformat": 4,
 "nbformat_minor": 5
}
