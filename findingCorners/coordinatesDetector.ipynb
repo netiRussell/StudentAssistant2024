{
 "cells": [
  {
   "cell_type": "markdown",
   "id": "c6b49607",
   "metadata": {},
   "source": [
    "1. Make sure all the instructions are downloaded by running these lines in your console"
   ]
  },
  {
   "cell_type": "code",
   "execution_count": null,
   "id": "b55d451a",
   "metadata": {
    "vscode": {
     "languageId": "plaintext"
    }
   },
   "outputs": [],
   "source": [
    "pip install opencv\n",
    "pip install easyocr\n",
    "pip install numpy\n",
    "pip install matplotlib\n",
    "pip install openpyxl"
   ]
  },
  {
   "cell_type": "markdown",
   "id": "b5fbfa7b",
   "metadata": {},
   "source": [
    "2. Modify settings in the file"
   ]
  },
  {
   "cell_type": "code",
   "execution_count": null,
   "id": "2c5ea0a7",
   "metadata": {},
   "outputs": [],
   "source": [
    "# ! Settings:\n",
    "imgPath = 'img/sample.png' # path to the image to be analyzed\n",
    "showImgWithPoints = True # True = would show image with points drawn on it. False = would show found points plotted on a graph"
   ]
  },
  {
   "cell_type": "markdown",
   "id": "7b10ceef",
   "metadata": {},
   "source": [
    "3. Have a file at your computer/laptop with name findRects.py with the following code:"
   ]
  },
  {
   "cell_type": "code",
   "execution_count": null,
   "id": "4e730c1e",
   "metadata": {},
   "outputs": [],
   "source": [
    "import cv2\n",
    "import ast\n",
    "import easyocr\n",
    "import numpy as np\n",
    "import matplotlib.pyplot as plt\n",
    "from openpyxl import Workbook, load_workbook\n",
    "\n",
    "# ! Settings:\n",
    "imgPath = 'img/sample.png' # path to the image to be analyzed\n",
    "showImgWithPoints = True # True = would show image with points drawn on it. False = would show found points plotted on a graph\n",
    "\n",
    "\n",
    "# -------------------------------------------------------------------------------------------------------------------- #\n",
    "\n",
    "# - Create an Excel file that will contain all the coordinates -\n",
    "wb = Workbook()\n",
    "ws = wb.active\n",
    "ws.append(['Top left X', 'Top left Y', 'Width', 'Height'])\n",
    "\n",
    "# - Get img and prepare it for contour detection -\n",
    "img = cv2.imread(imgPath)\n",
    "heightImg, widthImg, channels = img.shape\n",
    "gray = cv2.cvtColor(img, cv2.COLOR_BGR2GRAY)\n",
    "ret,thresh = cv2.threshold(gray,50,255,0)\n",
    "\n",
    "# - Find contours -\n",
    "contours,hierarchy = cv2.findContours(thresh, 1, cv2.CHAIN_APPROX_SIMPLE )\n",
    "\n",
    "# - Gather data -\n",
    "for cnt in contours:\n",
    "   x1,y1 = cnt[0][0]\n",
    "   approx = cv2.approxPolyDP(cnt, 0.01*cv2.arcLength(cnt, True), True)\n",
    "\n",
    "   # If found a rectangle\n",
    "   if len(approx) == 4:\n",
    "      # and that rectangle is not too small\n",
    "      if(cv2.contourArea(approx) < 10):\n",
    "         continue\n",
    "\n",
    "      x, y, w, h = cv2.boundingRect(cnt)\n",
    "\n",
    "      # Disregard a rectangle that matches the screen (bad implementation perfomance wise)\n",
    "      if( w == widthImg and h == heightImg):\n",
    "         continue\n",
    "\n",
    "      ws.append([x, y, w, h])\n",
    "\n",
    "\n",
    "# - Clean up data -\n",
    "# xy1 and xy2 are dupicates of each other if the difference of w1-w2 == h1-h2\n",
    "for mainRow in ws.iter_rows(min_row=2, max_row=None, min_col=1, max_col=4, values_only=False):\n",
    "   currentX = mainRow[0].value\n",
    "   currentY = mainRow[1].value\n",
    "   currentH = mainRow[2].value\n",
    "   currentW = mainRow[3].value\n",
    "   for checkingRow in ws.iter_rows(min_row=mainRow[0].row+1, max_row=None, min_col=1, max_col=4, values_only=False):\n",
    "      if(checkingRow[0].value != None ):\n",
    "         if(currentH - checkingRow[2].value == currentW - checkingRow[3].value):\n",
    "            if(currentX - checkingRow[0].value < 10 and currentY - checkingRow[1].value < 10):\n",
    "               ws.delete_rows(mainRow[0].row)\n",
    "               break\n",
    "\n",
    "# - Create coordinates -\n",
    "coordinatesWS = wb.create_sheet()\n",
    "coordinatesWS.title = 'Coordinates'\n",
    "coordinatesWS.append(['Top left (X,Y)', 'Top right', 'Bottom left', 'Bottom right', 'Department'])\n",
    "reader = easyocr.Reader(['en'], gpu=False)\n",
    "gray = cv2.blur(gray, (2,2))\n",
    "\n",
    "for row in ws.iter_rows(min_row=2, max_row=None, min_col=None, max_col=None, values_only=False):\n",
    "   if(row[0].value == None):\n",
    "      continue\n",
    "\n",
    "   # Detect department number\n",
    "   x,y,w,h = row[0].value, row[1].value, row[2].value, row[3].value\n",
    "   ROI = gray[y:y+h,x:x+w]\n",
    "   text_ = reader.readtext(ROI, mag_ratio=2, allowlist=\"0123456789\", text_threshold=0.5)\n",
    "\n",
    "   deptNumber = ''\n",
    "   for t_, t in enumerate(text_):\n",
    "      bbox, deptNumber, score = t\n",
    "      print(deptNumber)\n",
    "\n",
    "      if score > 0.25:\n",
    "         break\n",
    "   \n",
    "   # Insert values to the row\n",
    "   coordinatesWS['A' + str(row[0].row)] = '(' + str(row[0].value) + ', ' + str(row[1].value) + ')'\n",
    "   coordinatesWS['B' + str(row[0].row)] = '(' + str(row[0].value + row[2].value) + ', ' + str(row[1].value) + ')'\n",
    "   coordinatesWS['C' + str(row[0].row)] = '(' + str(row[0].value) + ', ' + str(row[1].value + row[3].value) + ')'\n",
    "   coordinatesWS['D' + str(row[0].row)] = '(' + str(row[0].value + row[2].value) + ', ' + str(row[1].value + row[3].value) + ')'\n",
    "   coordinatesWS['E' + str(row[0].row)] = deptNumber\n",
    "\n",
    "\n",
    "# - Save the Excel file -\n",
    "wb.save('coordinates.xlsx')\n",
    "\n",
    "# - Draw each point from the final data -\n",
    "x_data = np.array([], dtype=np.float32)\n",
    "y_data = np.array([], dtype=np.float32)\n",
    "for row in coordinatesWS.iter_rows(min_row=2, max_row=None, min_col=None, max_col=4, values_only=False):\n",
    "   for cell in row:\n",
    "      holder = ast.literal_eval(cell.value)\n",
    "      img[holder[1], holder[0]] = [0,0,255]\n",
    "      \n",
    "      x_data = np.append(x_data, holder[0])\n",
    "      y_data = np.append(y_data, holder[1])\n",
    "\n",
    "if( showImgWithPoints):\n",
    "   # - Show img with point -\n",
    "   cv2.imshow(\"Shapes\", img)\n",
    "   cv2.waitKey(0)\n",
    "   cv2.destroyAllWindows()\n",
    "else :\n",
    "   # - Plot the given points -\n",
    "   fig, (ax1, ax2) = plt.subplots(1, 2)\n",
    "   fig.suptitle('Plots')\n",
    "   ax1.scatter(x_data, y_data)\n",
    "   ax1.set_ylim(bottom=heightImg, top=0 )\n",
    "   ax1.set_xlim(left=0, right=widthImg )\n",
    "   ax2.imshow(img)\n",
    "   plt.show()"
   ]
  },
  {
   "cell_type": "markdown",
   "id": "d514095e",
   "metadata": {},
   "source": [
    "4. Run the program by writing this to your console:"
   ]
  },
  {
   "cell_type": "code",
   "execution_count": null,
   "id": "092014dd",
   "metadata": {
    "vscode": {
     "languageId": "plaintext"
    }
   },
   "outputs": [],
   "source": [
    "python3 findRects.py"
   ]
  }
 ],
 "metadata": {
  "kernelspec": {
   "display_name": "Python 3 (ipykernel)",
   "language": "python",
   "name": "python3"
  },
  "language_info": {
   "codemirror_mode": {
    "name": "ipython",
    "version": 3
   },
   "file_extension": ".py",
   "mimetype": "text/x-python",
   "name": "python",
   "nbconvert_exporter": "python",
   "pygments_lexer": "ipython3",
   "version": "3.12.2"
  }
 },
 "nbformat": 4,
 "nbformat_minor": 5
}
